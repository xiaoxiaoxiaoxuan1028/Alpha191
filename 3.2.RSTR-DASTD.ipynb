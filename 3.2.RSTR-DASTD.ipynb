{
 "cells": [
  {
   "cell_type": "markdown",
   "id": "fa57655f-a11c-46bf-94f9-dc89c29df3e9",
   "metadata": {},
   "source": [
    "### **1、数据clean**"
   ]
  },
  {
   "cell_type": "code",
   "execution_count": 1,
   "id": "d326b05d-457d-4791-b371-442c35387dae",
   "metadata": {},
   "outputs": [],
   "source": [
    "import scipy as sp\n",
    "import numpy as np\n",
    "import pandas as pd\n",
    "pd.set_option('display.max_columns', None)"
   ]
  },
  {
   "cell_type": "code",
   "execution_count": 2,
   "id": "18fbea51-4bf3-4152-a062-513a0dc3788c",
   "metadata": {},
   "outputs": [],
   "source": [
    "#因为RSTR数据计算的window为500，为了避免删除太多日期，故从08年交易数据开始计算\n",
    "TRD_Dalyr1 = pd.read_csv(\"D:/191alphas/return_day_08_22/TRD_Dalyr1.csv\")\n",
    "TRD_Dalyr2 = pd.read_csv(\"D:/191alphas/return_day_08_22/TRD_Dalyr2.csv\")\n",
    "TRD_Dalyr3 = pd.read_csv(\"D:/191alphas/return_day_08_22/TRD_Dalyr3.csv\")\n",
    "TRD_Dalyr4 = pd.read_csv(\"D:/191alphas/return_day_08_22/TRD_Dalyr4.csv\")\n",
    "TRD_Dalyr5 = pd.read_csv(\"D:/191alphas/return_day_08_22/TRD_Dalyr5.csv\")\n",
    "TRD_Dalyr6 = pd.read_csv(\"D:/191alphas/return_day_08_22/TRD_Dalyr6.csv\")\n",
    "TRD_Dalyr7 = pd.read_csv(\"D:/191alphas/return_day_08_22/TRD_Dalyr7.csv\")\n",
    "TRD_Dalyr8 = pd.read_csv(\"D:/191alphas/return_day_08_22/TRD_Dalyr8.csv\")\n",
    "TRD_Dalyr9 = pd.read_csv(\"D:/191alphas/return_day_08_22/TRD_Dalyr9.csv\")\n",
    "TRD_Dalyr10 = pd.read_csv(\"D:/191alphas/return_day_08_22/TRD_Dalyr10.csv\")\n",
    "TRD_Dalyr11 = pd.read_csv(\"D:/191alphas/return_day_08_22/TRD_Dalyr11.csv\")"
   ]
  },
  {
   "cell_type": "code",
   "execution_count": 3,
   "id": "d8c9979b-8f56-45e1-8d77-c1a05914d149",
   "metadata": {},
   "outputs": [],
   "source": [
    "TRD_Dalyr08_22 = pd.concat([TRD_Dalyr1,TRD_Dalyr2,TRD_Dalyr3,TRD_Dalyr4,TRD_Dalyr5,TRD_Dalyr6,TRD_Dalyr7,TRD_Dalyr8,TRD_Dalyr9,TRD_Dalyr10,TRD_Dalyr11])"
   ]
  },
  {
   "cell_type": "code",
   "execution_count": 4,
   "id": "e8ec753e-7206-4898-b6f7-9bdd7bf5cda4",
   "metadata": {},
   "outputs": [],
   "source": [
    "TRD_Dalyr08_22.drop(columns = ['Markettype'], inplace = True)"
   ]
  },
  {
   "cell_type": "code",
   "execution_count": 5,
   "id": "d335ab10-68f8-4c82-b37a-fbf44178f605",
   "metadata": {},
   "outputs": [],
   "source": [
    "TRD_Dalyr08_22.columns = ['code','date','return_day']"
   ]
  },
  {
   "cell_type": "code",
   "execution_count": 6,
   "id": "0b9524ba-6403-44d4-bf9e-ab5d261049c8",
   "metadata": {},
   "outputs": [],
   "source": [
    "TRD_Dalyr08_22.sort_values(by = ['code','date'], inplace = True)"
   ]
  },
  {
   "cell_type": "code",
   "execution_count": 7,
   "id": "2af72883-6126-4eb9-a48f-1506bfb4b312",
   "metadata": {},
   "outputs": [],
   "source": [
    "TRD_Dalyr08_22.reset_index(drop = True, inplace = True)"
   ]
  },
  {
   "cell_type": "code",
   "execution_count": 8,
   "id": "c4c98b56-b8d7-43ce-89e1-80c85ec31b99",
   "metadata": {},
   "outputs": [],
   "source": [
    "TRD_Dalyr08_22['date'] = pd.to_datetime(TRD_Dalyr08_22['date'])"
   ]
  },
  {
   "cell_type": "code",
   "execution_count": 9,
   "id": "30437ef7-1955-4ea0-b17a-178c9ac4c427",
   "metadata": {},
   "outputs": [
    {
     "data": {
      "text/html": [
       "<div>\n",
       "<style scoped>\n",
       "    .dataframe tbody tr th:only-of-type {\n",
       "        vertical-align: middle;\n",
       "    }\n",
       "\n",
       "    .dataframe tbody tr th {\n",
       "        vertical-align: top;\n",
       "    }\n",
       "\n",
       "    .dataframe thead th {\n",
       "        text-align: right;\n",
       "    }\n",
       "</style>\n",
       "<table border=\"1\" class=\"dataframe\">\n",
       "  <thead>\n",
       "    <tr style=\"text-align: right;\">\n",
       "      <th></th>\n",
       "      <th>code</th>\n",
       "      <th>date</th>\n",
       "      <th>return_day</th>\n",
       "    </tr>\n",
       "  </thead>\n",
       "  <tbody>\n",
       "    <tr>\n",
       "      <th>0</th>\n",
       "      <td>1</td>\n",
       "      <td>2008-01-02</td>\n",
       "      <td>-0.016062</td>\n",
       "    </tr>\n",
       "    <tr>\n",
       "      <th>1</th>\n",
       "      <td>1</td>\n",
       "      <td>2008-01-03</td>\n",
       "      <td>-0.016588</td>\n",
       "    </tr>\n",
       "    <tr>\n",
       "      <th>2</th>\n",
       "      <td>1</td>\n",
       "      <td>2008-01-04</td>\n",
       "      <td>0.027309</td>\n",
       "    </tr>\n",
       "    <tr>\n",
       "      <th>3</th>\n",
       "      <td>1</td>\n",
       "      <td>2008-01-07</td>\n",
       "      <td>0.020850</td>\n",
       "    </tr>\n",
       "    <tr>\n",
       "      <th>4</th>\n",
       "      <td>1</td>\n",
       "      <td>2008-01-08</td>\n",
       "      <td>0.031146</td>\n",
       "    </tr>\n",
       "    <tr>\n",
       "      <th>...</th>\n",
       "      <td>...</td>\n",
       "      <td>...</td>\n",
       "      <td>...</td>\n",
       "    </tr>\n",
       "    <tr>\n",
       "      <th>9127532</th>\n",
       "      <td>689009</td>\n",
       "      <td>2022-01-24</td>\n",
       "      <td>0.003281</td>\n",
       "    </tr>\n",
       "    <tr>\n",
       "      <th>9127533</th>\n",
       "      <td>689009</td>\n",
       "      <td>2022-01-25</td>\n",
       "      <td>-0.024295</td>\n",
       "    </tr>\n",
       "    <tr>\n",
       "      <th>9127534</th>\n",
       "      <td>689009</td>\n",
       "      <td>2022-01-26</td>\n",
       "      <td>-0.010535</td>\n",
       "    </tr>\n",
       "    <tr>\n",
       "      <th>9127535</th>\n",
       "      <td>689009</td>\n",
       "      <td>2022-01-27</td>\n",
       "      <td>-0.022423</td>\n",
       "    </tr>\n",
       "    <tr>\n",
       "      <th>9127536</th>\n",
       "      <td>689009</td>\n",
       "      <td>2022-01-28</td>\n",
       "      <td>0.003465</td>\n",
       "    </tr>\n",
       "  </tbody>\n",
       "</table>\n",
       "<p>9127537 rows × 3 columns</p>\n",
       "</div>"
      ],
      "text/plain": [
       "           code       date  return_day\n",
       "0             1 2008-01-02   -0.016062\n",
       "1             1 2008-01-03   -0.016588\n",
       "2             1 2008-01-04    0.027309\n",
       "3             1 2008-01-07    0.020850\n",
       "4             1 2008-01-08    0.031146\n",
       "...         ...        ...         ...\n",
       "9127532  689009 2022-01-24    0.003281\n",
       "9127533  689009 2022-01-25   -0.024295\n",
       "9127534  689009 2022-01-26   -0.010535\n",
       "9127535  689009 2022-01-27   -0.022423\n",
       "9127536  689009 2022-01-28    0.003465\n",
       "\n",
       "[9127537 rows x 3 columns]"
      ]
     },
     "execution_count": 9,
     "metadata": {},
     "output_type": "execute_result"
    }
   ],
   "source": [
    "TRD_Dalyr08_22"
   ]
  },
  {
   "cell_type": "markdown",
   "id": "85c7dcbc-58f6-43e7-bb86-fd78371d200b",
   "metadata": {},
   "source": [
    "### **2、半衰加权函数**"
   ]
  },
  {
   "cell_type": "code",
   "execution_count": 10,
   "id": "6a188c3e-16f4-43c6-984f-e8c29618974d",
   "metadata": {},
   "outputs": [],
   "source": [
    "#计算半衰期指数权重,时间序列长度为windows，半衰期为half\n",
    "def Weihgt_half(windows,half):\n",
    "    list_W = []\n",
    "    for i in range(windows):\n",
    "        locals()['W'+str(i)] = 0.5**((windows+1-i)/half)\n",
    "        list_W.append(locals()['W'+str(i)])\n",
    "        \n",
    "    return list_W/pd.Series(list_W).sum()#返回一个数组"
   ]
  },
  {
   "cell_type": "code",
   "execution_count": 11,
   "id": "a60872dd-3616-4c6c-a18c-47879f52979c",
   "metadata": {},
   "outputs": [],
   "source": [
    "#计算半衰加权的函数,column为被加权的列，windows,half为权重计算参数，new_col为加权结果列\n",
    "def Mean_half(df,column,new_col,windows,half):\n",
    "    result = pd.DataFrame()\n",
    "    codelist = df.code.unique()\n",
    "    Weihgt_h = Weihgt_half(windows, half)\n",
    "    for code in codelist:\n",
    "        TRD_sub = df[df.code == code].copy()\n",
    "        TRD_sub.loc[:,[new_col]] = TRD_sub.rolling(windows)[column].apply(lambda x: (x*Weihgt_h).sum())\n",
    "        result = pd.concat([result,TRD_sub])\n",
    "    return result"
   ]
  },
  {
   "cell_type": "markdown",
   "id": "07db17d8-f7ca-4fae-9877-c628097f2f1c",
   "metadata": {
    "tags": []
   },
   "source": [
    "### **3、计算RSTR**"
   ]
  },
  {
   "cell_type": "code",
   "execution_count": 12,
   "id": "850a670b-058e-4242-b559-483577845a71",
   "metadata": {},
   "outputs": [],
   "source": [
    "TRD_Dalyr08_22.loc[:,'ln_return_day'] = np.log(1+TRD_Dalyr08_22['return_day'])"
   ]
  },
  {
   "cell_type": "code",
   "execution_count": 13,
   "id": "7f2f4af6-8a74-4f14-a756-8f5bfe528f17",
   "metadata": {},
   "outputs": [],
   "source": [
    "Mean_half_500120 = Mean_half(TRD_Dalyr08_22 ,column = 'ln_return_day', new_col = 'RSTR_0', windows = 500, half = 120)"
   ]
  },
  {
   "cell_type": "code",
   "execution_count": 14,
   "id": "e5e34a01-7f21-4500-b342-a161a5c9ff67",
   "metadata": {},
   "outputs": [],
   "source": [
    "Mean_half_500120.loc[:,'RSTR'] = Mean_half_500120.groupby('code')['RSTR_0'].shift(20)"
   ]
  },
  {
   "cell_type": "code",
   "execution_count": 15,
   "id": "fa41ada5-490c-4259-8773-4f8fbad48d2d",
   "metadata": {},
   "outputs": [],
   "source": [
    "Mean_half_500120.to_hdf('C:/Users/Administrator/Downloads/alpha191/RSTR.h5', key = 'RSTR')"
   ]
  },
  {
   "cell_type": "code",
   "execution_count": 16,
   "id": "bea03dc1-c8ca-4e4e-968d-38c23279c8f9",
   "metadata": {},
   "outputs": [
    {
     "data": {
      "text/html": [
       "<div>\n",
       "<style scoped>\n",
       "    .dataframe tbody tr th:only-of-type {\n",
       "        vertical-align: middle;\n",
       "    }\n",
       "\n",
       "    .dataframe tbody tr th {\n",
       "        vertical-align: top;\n",
       "    }\n",
       "\n",
       "    .dataframe thead th {\n",
       "        text-align: right;\n",
       "    }\n",
       "</style>\n",
       "<table border=\"1\" class=\"dataframe\">\n",
       "  <thead>\n",
       "    <tr style=\"text-align: right;\">\n",
       "      <th></th>\n",
       "      <th>code</th>\n",
       "      <th>date</th>\n",
       "      <th>return_day</th>\n",
       "      <th>ln_return_day</th>\n",
       "      <th>RSTR_0</th>\n",
       "      <th>RSTR</th>\n",
       "    </tr>\n",
       "  </thead>\n",
       "  <tbody>\n",
       "    <tr>\n",
       "      <th>0</th>\n",
       "      <td>1</td>\n",
       "      <td>2008-01-02</td>\n",
       "      <td>-0.016062</td>\n",
       "      <td>-0.016192</td>\n",
       "      <td>NaN</td>\n",
       "      <td>NaN</td>\n",
       "    </tr>\n",
       "    <tr>\n",
       "      <th>1</th>\n",
       "      <td>1</td>\n",
       "      <td>2008-01-03</td>\n",
       "      <td>-0.016588</td>\n",
       "      <td>-0.016727</td>\n",
       "      <td>NaN</td>\n",
       "      <td>NaN</td>\n",
       "    </tr>\n",
       "    <tr>\n",
       "      <th>2</th>\n",
       "      <td>1</td>\n",
       "      <td>2008-01-04</td>\n",
       "      <td>0.027309</td>\n",
       "      <td>0.026943</td>\n",
       "      <td>NaN</td>\n",
       "      <td>NaN</td>\n",
       "    </tr>\n",
       "    <tr>\n",
       "      <th>3</th>\n",
       "      <td>1</td>\n",
       "      <td>2008-01-07</td>\n",
       "      <td>0.020850</td>\n",
       "      <td>0.020636</td>\n",
       "      <td>NaN</td>\n",
       "      <td>NaN</td>\n",
       "    </tr>\n",
       "    <tr>\n",
       "      <th>4</th>\n",
       "      <td>1</td>\n",
       "      <td>2008-01-08</td>\n",
       "      <td>0.031146</td>\n",
       "      <td>0.030671</td>\n",
       "      <td>NaN</td>\n",
       "      <td>NaN</td>\n",
       "    </tr>\n",
       "    <tr>\n",
       "      <th>...</th>\n",
       "      <td>...</td>\n",
       "      <td>...</td>\n",
       "      <td>...</td>\n",
       "      <td>...</td>\n",
       "      <td>...</td>\n",
       "      <td>...</td>\n",
       "    </tr>\n",
       "    <tr>\n",
       "      <th>9127532</th>\n",
       "      <td>689009</td>\n",
       "      <td>2022-01-24</td>\n",
       "      <td>0.003281</td>\n",
       "      <td>0.003276</td>\n",
       "      <td>NaN</td>\n",
       "      <td>NaN</td>\n",
       "    </tr>\n",
       "    <tr>\n",
       "      <th>9127533</th>\n",
       "      <td>689009</td>\n",
       "      <td>2022-01-25</td>\n",
       "      <td>-0.024295</td>\n",
       "      <td>-0.024595</td>\n",
       "      <td>NaN</td>\n",
       "      <td>NaN</td>\n",
       "    </tr>\n",
       "    <tr>\n",
       "      <th>9127534</th>\n",
       "      <td>689009</td>\n",
       "      <td>2022-01-26</td>\n",
       "      <td>-0.010535</td>\n",
       "      <td>-0.010591</td>\n",
       "      <td>NaN</td>\n",
       "      <td>NaN</td>\n",
       "    </tr>\n",
       "    <tr>\n",
       "      <th>9127535</th>\n",
       "      <td>689009</td>\n",
       "      <td>2022-01-27</td>\n",
       "      <td>-0.022423</td>\n",
       "      <td>-0.022678</td>\n",
       "      <td>NaN</td>\n",
       "      <td>NaN</td>\n",
       "    </tr>\n",
       "    <tr>\n",
       "      <th>9127536</th>\n",
       "      <td>689009</td>\n",
       "      <td>2022-01-28</td>\n",
       "      <td>0.003465</td>\n",
       "      <td>0.003459</td>\n",
       "      <td>NaN</td>\n",
       "      <td>NaN</td>\n",
       "    </tr>\n",
       "  </tbody>\n",
       "</table>\n",
       "<p>9127537 rows × 6 columns</p>\n",
       "</div>"
      ],
      "text/plain": [
       "           code       date  return_day  ln_return_day  RSTR_0  RSTR\n",
       "0             1 2008-01-02   -0.016062      -0.016192     NaN   NaN\n",
       "1             1 2008-01-03   -0.016588      -0.016727     NaN   NaN\n",
       "2             1 2008-01-04    0.027309       0.026943     NaN   NaN\n",
       "3             1 2008-01-07    0.020850       0.020636     NaN   NaN\n",
       "4             1 2008-01-08    0.031146       0.030671     NaN   NaN\n",
       "...         ...        ...         ...            ...     ...   ...\n",
       "9127532  689009 2022-01-24    0.003281       0.003276     NaN   NaN\n",
       "9127533  689009 2022-01-25   -0.024295      -0.024595     NaN   NaN\n",
       "9127534  689009 2022-01-26   -0.010535      -0.010591     NaN   NaN\n",
       "9127535  689009 2022-01-27   -0.022423      -0.022678     NaN   NaN\n",
       "9127536  689009 2022-01-28    0.003465       0.003459     NaN   NaN\n",
       "\n",
       "[9127537 rows x 6 columns]"
      ]
     },
     "execution_count": 16,
     "metadata": {},
     "output_type": "execute_result"
    }
   ],
   "source": [
    "Mean_half_500120"
   ]
  },
  {
   "cell_type": "markdown",
   "id": "8dc483aa-333e-4b84-8923-0bb2a2cd660e",
   "metadata": {},
   "source": [
    "### **4、计算DASTD**"
   ]
  },
  {
   "cell_type": "markdown",
   "id": "1e3c40ab-c6ec-403a-9aa9-ae98992769c0",
   "metadata": {},
   "source": [
    "TRD_Dalyr08_22"
   ]
  },
  {
   "cell_type": "code",
   "execution_count": null,
   "id": "4f0ae0b9-8d5e-40c6-ba4b-c7f282622e39",
   "metadata": {},
   "outputs": [],
   "source": [
    "#计算日度收益率250日均值\n",
    "TRD_Dalyr08_22.loc[:,'return_day_mean250'] = TRD_Dalyr08_22.groupby('code',as_index=False)['return_day'].rolling(250).mean()['return_day']"
   ]
  },
  {
   "cell_type": "code",
   "execution_count": null,
   "id": "90050bf5-011c-4093-955c-65407ca9f7ea",
   "metadata": {},
   "outputs": [],
   "source": [
    "#计算日度收益率与250日均值的离差平方\n",
    "TRD_Dalyr08_22.loc[:,'return_d_Sq_dev'] = (TRD_Dalyr08_22['return_day'] - TRD_Dalyr08_22['return_day_mean250'])**2"
   ]
  },
  {
   "cell_type": "code",
   "execution_count": null,
   "id": "e9f44874-f46b-4eac-bc01-5c6c9a86cea7",
   "metadata": {
    "tags": []
   },
   "outputs": [],
   "source": [
    "#周期250，40天半衰期加权平均，因此需要至少500天交易数据\n",
    "Mean_half_25040 = Mean_half(TRD_Dalyr08_22 ,column = 'return_d_Sq_dev', new_col = 'DASTD', windows = 250, half = 40)"
   ]
  },
  {
   "cell_type": "code",
   "execution_count": null,
   "id": "1f370aed-4aaf-41f1-a6bf-914cc4d8e126",
   "metadata": {},
   "outputs": [],
   "source": [
    "Mean_half_25040.isnull().sum()"
   ]
  },
  {
   "cell_type": "code",
   "execution_count": null,
   "id": "17eb2e53-1a66-4545-944e-5fd002d43e39",
   "metadata": {},
   "outputs": [],
   "source": [
    "Mean_half_25040.info()"
   ]
  },
  {
   "cell_type": "code",
   "execution_count": null,
   "id": "9eebb595-349a-46a1-a1c9-1207a0c24ef1",
   "metadata": {},
   "outputs": [],
   "source": [
    "Mean_half_25040_dropna = Mean_half_25040.dropna()"
   ]
  },
  {
   "cell_type": "code",
   "execution_count": null,
   "id": "cf61e111-a71a-4d9e-b7f7-63025975c686",
   "metadata": {},
   "outputs": [],
   "source": [
    "len(Mean_half_25040_dropna.code.unique())"
   ]
  },
  {
   "cell_type": "code",
   "execution_count": null,
   "id": "d6c19d49-fadc-44c1-bdb3-63e903f84170",
   "metadata": {},
   "outputs": [],
   "source": [
    "Mean_half_25040.to_hdf('C:/Users/Administrator/Downloads/alpha191/DASTD.h5', key = 'DASTD')"
   ]
  }
 ],
 "metadata": {
  "kernelspec": {
   "display_name": "Python 3 (ipykernel)",
   "language": "python",
   "name": "python3"
  },
  "language_info": {
   "codemirror_mode": {
    "name": "ipython",
    "version": 3
   },
   "file_extension": ".py",
   "mimetype": "text/x-python",
   "name": "python",
   "nbconvert_exporter": "python",
   "pygments_lexer": "ipython3",
   "version": "3.9.7"
  }
 },
 "nbformat": 4,
 "nbformat_minor": 5
}
