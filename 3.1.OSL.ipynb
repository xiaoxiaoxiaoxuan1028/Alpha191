{
 "cells": [
  {
   "cell_type": "markdown",
   "id": "65b19dba-13f2-4c0e-b876-96e7d77429ad",
   "metadata": {},
   "source": [
    "### **一、加载常用库**"
   ]
  },
  {
   "cell_type": "code",
   "execution_count": 1,
   "id": "cd076ced-3d33-4a2d-a841-4c23f3e50f5d",
   "metadata": {
    "tags": []
   },
   "outputs": [
    {
     "name": "stderr",
     "output_type": "stream",
     "text": [
      "C:\\Users\\Administrator\\Anaconda3\\lib\\site-packages\\statsmodels\\tsa\\base\\tsa_model.py:7: FutureWarning: pandas.Int64Index is deprecated and will be removed from pandas in a future version. Use pandas.Index with the appropriate dtype instead.\n",
      "  from pandas import (to_datetime, Int64Index, DatetimeIndex, Period,\n",
      "C:\\Users\\Administrator\\Anaconda3\\lib\\site-packages\\statsmodels\\tsa\\base\\tsa_model.py:7: FutureWarning: pandas.Float64Index is deprecated and will be removed from pandas in a future version. Use pandas.Index with the appropriate dtype instead.\n",
      "  from pandas import (to_datetime, Int64Index, DatetimeIndex, Period,\n"
     ]
    }
   ],
   "source": [
    "import scipy as sp\n",
    "import numpy as np\n",
    "import pandas as pd\n",
    "import gc\n",
    "import statsmodels.api as sm\n",
    "pd.set_option('display.max_columns', None)"
   ]
  },
  {
   "cell_type": "markdown",
   "id": "ed8a88ec-c205-4fd4-bf47-ce1e661cbd9a",
   "metadata": {},
   "source": [
    "### **二、计算风格因子Beta和残差标准差resid_std**"
   ]
  },
  {
   "cell_type": "code",
   "execution_count": 2,
   "id": "26024f3e-2c15-413f-a4a0-cda937b70862",
   "metadata": {},
   "outputs": [],
   "source": [
    "#半衰期加权函数\n",
    "def Sma_half(df,h):\n",
    "    #sma均值\n",
    "    #df1 = df.ewm(alpha=m/n).mean()\n",
    "    alpha = 1-np.exp(np.log(0.5)/h)\n",
    "    return df.ewm(alpha = alpha , adjust=False).mean()\n",
    "\n",
    "#滚动回归\n",
    "def OLS_params(df,window):\n",
    "    result = pd.DataFrame()\n",
    "    listcode = df.code.unique()\n",
    "    for code in listcode:\n",
    "        df_sub = df[df.code == code].reset_index(drop = True)\n",
    "        for row in range(window, len(df_sub)+1):\n",
    "            y = df_sub.loc[row-window:row,['return_half']]\n",
    "            x = df_sub.loc[row-window:row,['Retindex_half']]\n",
    "            #X = sm.add_constant(x)\n",
    "            model = sm.OLS(y,x).fit()\n",
    "            df_sub.loc[row-1,['Beta']] = model.params[0]\n",
    "            df_sub.loc[row-1,['resid_std']] = model.resid.std()\n",
    "        result = pd.concat([result,df_sub])\n",
    "    \n",
    "    return result"
   ]
  },
  {
   "cell_type": "code",
   "execution_count": 3,
   "id": "0a54b456-60fe-444c-ad56-f3a2f2e678df",
   "metadata": {},
   "outputs": [],
   "source": [
    "#导入股票和指数交易数据\n",
    "stktrd = pd.read_hdf('alldata.h5',key='stktrd')"
   ]
  },
  {
   "cell_type": "code",
   "execution_count": 4,
   "id": "e479d47b-0f03-4ccc-a425-467de6bd401e",
   "metadata": {},
   "outputs": [],
   "source": [
    "#提取出需要的列\n",
    "stktrd_getbeta = stktrd.loc[:,['code','date','return','Retindex']]"
   ]
  },
  {
   "cell_type": "code",
   "execution_count": 5,
   "id": "4b81e462-4be9-46d7-b7f7-126382ebe04d",
   "metadata": {},
   "outputs": [],
   "source": [
    "#计算半衰指数加权股票收益率\n",
    "stktrd_getbeta['return_half'] = stktrd_getbeta.groupby(['code'])['return'].apply(lambda x: Sma_half(x,60))"
   ]
  },
  {
   "cell_type": "code",
   "execution_count": 6,
   "id": "0a477850-fc03-42c1-8bb0-320e38351068",
   "metadata": {},
   "outputs": [],
   "source": [
    "#计算半衰指数加权沪深300收益率\n",
    "stktrd_getbeta['Retindex_half'] = stktrd_getbeta.groupby(['code'])['Retindex'].apply(lambda x: Sma_half(x,60))"
   ]
  },
  {
   "cell_type": "code",
   "execution_count": 7,
   "id": "b91042df-5ad3-499b-add0-9b2ed3bc9d18",
   "metadata": {},
   "outputs": [],
   "source": [
    "ols_result = OLS_params(stktrd_getbeta,250)"
   ]
  },
  {
   "cell_type": "code",
   "execution_count": 14,
   "id": "111b81ec-740e-496a-8320-edbce61f002b",
   "metadata": {},
   "outputs": [],
   "source": [
    "ols_result.reset_index(drop = True, inplace = True)"
   ]
  },
  {
   "cell_type": "code",
   "execution_count": 16,
   "id": "ab7b70ac-6476-4dfd-9957-aa0d5afddc14",
   "metadata": {},
   "outputs": [],
   "source": [
    "ols_result.to_hdf('ols_result.h5', key = 'ols_result')"
   ]
  },
  {
   "cell_type": "code",
   "execution_count": 17,
   "id": "2d523bdd-0929-4ca8-9d12-255252b63764",
   "metadata": {},
   "outputs": [
    {
     "data": {
      "text/html": [
       "<div>\n",
       "<style scoped>\n",
       "    .dataframe tbody tr th:only-of-type {\n",
       "        vertical-align: middle;\n",
       "    }\n",
       "\n",
       "    .dataframe tbody tr th {\n",
       "        vertical-align: top;\n",
       "    }\n",
       "\n",
       "    .dataframe thead th {\n",
       "        text-align: right;\n",
       "    }\n",
       "</style>\n",
       "<table border=\"1\" class=\"dataframe\">\n",
       "  <thead>\n",
       "    <tr style=\"text-align: right;\">\n",
       "      <th></th>\n",
       "      <th>code</th>\n",
       "      <th>date</th>\n",
       "      <th>return</th>\n",
       "      <th>Retindex</th>\n",
       "      <th>return_half</th>\n",
       "      <th>Retindex_half</th>\n",
       "      <th>Beta</th>\n",
       "      <th>resid_std</th>\n",
       "    </tr>\n",
       "  </thead>\n",
       "  <tbody>\n",
       "    <tr>\n",
       "      <th>0</th>\n",
       "      <td>1</td>\n",
       "      <td>2010-01-04</td>\n",
       "      <td>-0.027082</td>\n",
       "      <td>-0.011314</td>\n",
       "      <td>-0.027082</td>\n",
       "      <td>-0.011314</td>\n",
       "      <td>NaN</td>\n",
       "      <td>NaN</td>\n",
       "    </tr>\n",
       "    <tr>\n",
       "      <th>1</th>\n",
       "      <td>1</td>\n",
       "      <td>2010-01-05</td>\n",
       "      <td>-0.017292</td>\n",
       "      <td>0.008149</td>\n",
       "      <td>-0.026970</td>\n",
       "      <td>-0.011090</td>\n",
       "      <td>NaN</td>\n",
       "      <td>NaN</td>\n",
       "    </tr>\n",
       "    <tr>\n",
       "      <th>2</th>\n",
       "      <td>1</td>\n",
       "      <td>2010-01-06</td>\n",
       "      <td>-0.017167</td>\n",
       "      <td>-0.006260</td>\n",
       "      <td>-0.026857</td>\n",
       "      <td>-0.011035</td>\n",
       "      <td>NaN</td>\n",
       "      <td>NaN</td>\n",
       "    </tr>\n",
       "    <tr>\n",
       "      <th>3</th>\n",
       "      <td>1</td>\n",
       "      <td>2010-01-07</td>\n",
       "      <td>-0.010917</td>\n",
       "      <td>-0.019841</td>\n",
       "      <td>-0.026674</td>\n",
       "      <td>-0.011136</td>\n",
       "      <td>NaN</td>\n",
       "      <td>NaN</td>\n",
       "    </tr>\n",
       "    <tr>\n",
       "      <th>4</th>\n",
       "      <td>1</td>\n",
       "      <td>2010-01-08</td>\n",
       "      <td>-0.002208</td>\n",
       "      <td>0.002499</td>\n",
       "      <td>-0.026393</td>\n",
       "      <td>-0.010979</td>\n",
       "      <td>NaN</td>\n",
       "      <td>NaN</td>\n",
       "    </tr>\n",
       "    <tr>\n",
       "      <th>...</th>\n",
       "      <td>...</td>\n",
       "      <td>...</td>\n",
       "      <td>...</td>\n",
       "      <td>...</td>\n",
       "      <td>...</td>\n",
       "      <td>...</td>\n",
       "      <td>...</td>\n",
       "      <td>...</td>\n",
       "    </tr>\n",
       "    <tr>\n",
       "      <th>8672604</th>\n",
       "      <td>900957</td>\n",
       "      <td>2022-01-24</td>\n",
       "      <td>-0.026646</td>\n",
       "      <td>0.001553</td>\n",
       "      <td>-0.000022</td>\n",
       "      <td>-0.000290</td>\n",
       "      <td>1.668251</td>\n",
       "      <td>0.000730</td>\n",
       "    </tr>\n",
       "    <tr>\n",
       "      <th>8672605</th>\n",
       "      <td>900957</td>\n",
       "      <td>2022-01-25</td>\n",
       "      <td>-0.016103</td>\n",
       "      <td>-0.022622</td>\n",
       "      <td>-0.000207</td>\n",
       "      <td>-0.000547</td>\n",
       "      <td>1.697025</td>\n",
       "      <td>0.000720</td>\n",
       "    </tr>\n",
       "    <tr>\n",
       "      <th>8672606</th>\n",
       "      <td>900957</td>\n",
       "      <td>2022-01-26</td>\n",
       "      <td>0.004910</td>\n",
       "      <td>0.007237</td>\n",
       "      <td>-0.000148</td>\n",
       "      <td>-0.000457</td>\n",
       "      <td>1.713335</td>\n",
       "      <td>0.000714</td>\n",
       "    </tr>\n",
       "    <tr>\n",
       "      <th>8672607</th>\n",
       "      <td>900957</td>\n",
       "      <td>2022-01-27</td>\n",
       "      <td>-0.003257</td>\n",
       "      <td>-0.019615</td>\n",
       "      <td>-0.000184</td>\n",
       "      <td>-0.000677</td>\n",
       "      <td>1.726680</td>\n",
       "      <td>0.000709</td>\n",
       "    </tr>\n",
       "    <tr>\n",
       "      <th>8672608</th>\n",
       "      <td>900957</td>\n",
       "      <td>2022-01-28</td>\n",
       "      <td>0.008170</td>\n",
       "      <td>-0.012144</td>\n",
       "      <td>-0.000088</td>\n",
       "      <td>-0.000809</td>\n",
       "      <td>1.745107</td>\n",
       "      <td>0.000707</td>\n",
       "    </tr>\n",
       "  </tbody>\n",
       "</table>\n",
       "<p>8672609 rows × 8 columns</p>\n",
       "</div>"
      ],
      "text/plain": [
       "           code       date    return  Retindex  return_half  Retindex_half  \\\n",
       "0             1 2010-01-04 -0.027082 -0.011314    -0.027082      -0.011314   \n",
       "1             1 2010-01-05 -0.017292  0.008149    -0.026970      -0.011090   \n",
       "2             1 2010-01-06 -0.017167 -0.006260    -0.026857      -0.011035   \n",
       "3             1 2010-01-07 -0.010917 -0.019841    -0.026674      -0.011136   \n",
       "4             1 2010-01-08 -0.002208  0.002499    -0.026393      -0.010979   \n",
       "...         ...        ...       ...       ...          ...            ...   \n",
       "8672604  900957 2022-01-24 -0.026646  0.001553    -0.000022      -0.000290   \n",
       "8672605  900957 2022-01-25 -0.016103 -0.022622    -0.000207      -0.000547   \n",
       "8672606  900957 2022-01-26  0.004910  0.007237    -0.000148      -0.000457   \n",
       "8672607  900957 2022-01-27 -0.003257 -0.019615    -0.000184      -0.000677   \n",
       "8672608  900957 2022-01-28  0.008170 -0.012144    -0.000088      -0.000809   \n",
       "\n",
       "             Beta  resid_std  \n",
       "0             NaN        NaN  \n",
       "1             NaN        NaN  \n",
       "2             NaN        NaN  \n",
       "3             NaN        NaN  \n",
       "4             NaN        NaN  \n",
       "...           ...        ...  \n",
       "8672604  1.668251   0.000730  \n",
       "8672605  1.697025   0.000720  \n",
       "8672606  1.713335   0.000714  \n",
       "8672607  1.726680   0.000709  \n",
       "8672608  1.745107   0.000707  \n",
       "\n",
       "[8672609 rows x 8 columns]"
      ]
     },
     "execution_count": 17,
     "metadata": {},
     "output_type": "execute_result"
    }
   ],
   "source": [
    "ols_result"
   ]
  }
 ],
 "metadata": {
  "kernelspec": {
   "display_name": "Python 3 (ipykernel)",
   "language": "python",
   "name": "python3"
  },
  "language_info": {
   "codemirror_mode": {
    "name": "ipython",
    "version": 3
   },
   "file_extension": ".py",
   "mimetype": "text/x-python",
   "name": "python",
   "nbconvert_exporter": "python",
   "pygments_lexer": "ipython3",
   "version": "3.9.7"
  }
 },
 "nbformat": 4,
 "nbformat_minor": 5
}
